{
 "cells": [
  {
   "cell_type": "markdown",
   "metadata": {},
   "source": [
    "# Задание"
   ]
  },
  {
   "cell_type": "code",
   "execution_count": 2,
   "metadata": {},
   "outputs": [
    {
     "name": "stderr",
     "output_type": "stream",
     "text": [
      "/var/folders/zz/zyxvpxvq6csfxvn_n0002glm000lwx/T/ipykernel_68864/736562937.py:2: DtypeWarning: Columns (0,208,225,255,257,260,270,271,277) have mixed types. Specify dtype option on import or set low_memory=False.\n",
      "  data = pd.read_csv('../datasets/kaggle_survey_2022_responses.csv')\n"
     ]
    },
    {
     "data": {
      "text/plain": [
       "0    What is your current yearly compensation (appr...\n",
       "1                                                  NaN\n",
       "2                                                  NaN\n",
       "3                                                  NaN\n",
       "4                                        25,000-29,999\n",
       "5                                                  NaN\n",
       "6                                                  NaN\n",
       "7                                                  NaN\n",
       "8                                      100,000-124,999\n",
       "9                                      100,000-124,999\n",
       "Name: Q29, dtype: object"
      ]
     },
     "execution_count": 2,
     "metadata": {},
     "output_type": "execute_result"
    }
   ],
   "source": [
    "import pandas as pd\n",
    "data = pd.read_csv('../datasets/kaggle_survey_2022_responses.csv') \n",
    "data['Q29'].head(10)"
   ]
  },
  {
   "cell_type": "markdown",
   "metadata": {},
   "source": [
    "## Задание 1"
   ]
  },
  {
   "cell_type": "markdown",
   "metadata": {},
   "source": [
    "Узнай самый часто встречаемый возраст респондентов"
   ]
  },
  {
   "cell_type": "code",
   "execution_count": 42,
   "metadata": {},
   "outputs": [
    {
     "data": {
      "text/plain": [
       "18-21    4559\n",
       "Name: Q2, dtype: int64"
      ]
     },
     "execution_count": 42,
     "metadata": {},
     "output_type": "execute_result"
    }
   ],
   "source": [
    "data['Q2'].value_counts().head(1)"
   ]
  },
  {
   "cell_type": "markdown",
   "metadata": {},
   "source": [
    "## Задание 2"
   ]
  },
  {
   "cell_type": "markdown",
   "metadata": {},
   "source": [
    "Посчитай долю женщин среди русских участником опроса, которые уже не студенты. Результат округли до 2х цифры после запятой"
   ]
  },
  {
   "cell_type": "code",
   "execution_count": 73,
   "metadata": {},
   "outputs": [
    {
     "name": "stdout",
     "output_type": "stream",
     "text": [
      "23.31\n"
     ]
    }
   ],
   "source": [
    "count1 = 0\n",
    "data_wom = data[\n",
    "    (data['Q3'].str.contains('Woman')) &\n",
    "    (data['Q4'].str.contains('Russia')) &\n",
    "    (data['Q5'] == 'No')\n",
    "]\n",
    "count1 = data_wom.shape[0] - 1\n",
    "data_all = data[\n",
    "    (data['Q4'].str.contains('Russia')) &\n",
    "    (data['Q5'] == 'No')\n",
    "]\n",
    "count_all = data_all.shape[0]-1\n",
    "print('%.2f' % (count1/count_all*100))"
   ]
  },
  {
   "cell_type": "markdown",
   "metadata": {},
   "source": [
    "## Задание 3"
   ]
  },
  {
   "cell_type": "markdown",
   "metadata": {},
   "source": [
    "Найди среднее время заполнения опроса в **минутах**. Результат округли до 2х знаков после запятой"
   ]
  },
  {
   "cell_type": "code",
   "execution_count": 177,
   "metadata": {},
   "outputs": [
    {
     "name": "stdout",
     "output_type": "stream",
     "text": [
      "10090.10\n"
     ]
    }
   ],
   "source": [
    "sred = 0\n",
    "dur_list = pd.to_numeric(data['Duration (in seconds)'], errors='coerce', downcast='integer')\n",
    "iterat = dur_list.shape[0]\n",
    "for i in range(1,iterat):\n",
    "    sred =sred + dur_list[i]\n",
    "print('%.2f' % (sred/(iterat-1)))"
   ]
  },
  {
   "cell_type": "markdown",
   "metadata": {},
   "source": [
    "## Задание 4"
   ]
  },
  {
   "cell_type": "markdown",
   "metadata": {},
   "source": [
    "Выведи топ-3 образовательных курса, которые указали респонденты. P.S Это вопрос Q6"
   ]
  },
  {
   "cell_type": "code",
   "execution_count": 189,
   "metadata": {},
   "outputs": [
    {
     "data": {
      "text/plain": [
       "Coursera                                                 9699\n",
       "University Courses (resulting in a university degree)    6780\n",
       "Kaggle Learn Courses                                     6628\n",
       "Name: value, dtype: int64"
      ]
     },
     "execution_count": 189,
     "metadata": {},
     "output_type": "execute_result"
    }
   ],
   "source": [
    "q6_columns = [col for col in data.columns if col.startswith('Q6')]\n",
    "Courses = data[q6_columns].melt(var_name='вопрос', value_vars=q6_columns)\n",
    "Courses['value'].value_counts().iloc[:3]"
   ]
  },
  {
   "cell_type": "markdown",
   "metadata": {},
   "source": [
    "## Задание 5"
   ]
  },
  {
   "cell_type": "markdown",
   "metadata": {},
   "source": [
    "Узнай топ-5 языков программирования, которые регулярно используют Data Scientists в своей работе"
   ]
  },
  {
   "cell_type": "code",
   "execution_count": 374,
   "metadata": {},
   "outputs": [
    {
     "data": {
      "text/plain": [
       "Python    18653\n",
       "SQL        9620\n",
       "R          4571\n",
       "C++        4549\n",
       "Java       3862\n",
       "Name: value, dtype: int64"
      ]
     },
     "execution_count": 374,
     "metadata": {},
     "output_type": "execute_result"
    }
   ],
   "source": [
    "q12_columns = [col for col in data.columns if col.startswith('Q12')]\n",
    "Courses = data[q12_columns].melt(var_name='вопрос', value_vars=q12_columns)\n",
    "Courses['value'].value_counts().iloc[:5]"
   ]
  },
  {
   "cell_type": "markdown",
   "metadata": {},
   "source": [
    "## Задание 6"
   ]
  },
  {
   "cell_type": "markdown",
   "metadata": {},
   "source": [
    "Узнай средний доход 'Data Scientist' и 'Machine Learning/ MLops Engineer' \\\n",
    "Т.к в колонке Q29 у на промежуток, то возьмите среднее значение из промежкутка. Например '15,000-19,999' - 17500, '125,000-149,999' - 137500. >$1,000,000 - оставляем 1000000"
   ]
  },
  {
   "cell_type": "code",
   "execution_count": 29,
   "metadata": {},
   "outputs": [],
   "source": [
    "def get_income(x):\n",
    "    if type(x) is str:\n",
    "        i = 0\n",
    "        value_1 = \"\"\n",
    "        value_2 = \"\"\n",
    "        metka = 0\n",
    "        while i != len(x):\n",
    "            if (x[i]=='-'):\n",
    "                metka = 1\n",
    "                break\n",
    "            i = i + 1\n",
    "        for j in range(0,i):\n",
    "            if x[j].isdigit():\n",
    "                value_1 = value_1 + x[j]\n",
    "        value_2 = value_1\n",
    "        if metka == 1:\n",
    "            value_2 = \"\"\n",
    "            for j in range(i,len(x)):\n",
    "                if x[j].isdigit():\n",
    "                    value_2 = value_2 + x[j]\n",
    "        res = (float(value_1) + float(value_2)+metka)/ 2\n",
    "    else:\n",
    "        res = -1\n",
    "    return res"
   ]
  },
  {
   "cell_type": "code",
   "execution_count": 38,
   "metadata": {},
   "outputs": [
    {
     "name": "stdout",
     "output_type": "stream",
     "text": [
      "70337\n",
      "67438\n"
     ]
    }
   ],
   "source": [
    "import math\n",
    "scienc = 0\n",
    "science_it = 0\n",
    "ml = 0\n",
    "ml_it = 0\n",
    "iterat = data.shape[0]\n",
    "for index in range(0,iterat-1):\n",
    "    if data['Q23'].iloc[index] == \"Data Scientist\":\n",
    "        if get_income(data['Q29'].iloc[index])!= -1:\n",
    "            science_it = science_it + 1\n",
    "            scienc = scienc + get_income(data['Q29'].iloc[index])\n",
    "    if data['Q23'].iloc[index] == \"Machine Learning/ MLops Engineer\":\n",
    "        if get_income(data['Q29'].iloc[index])!=-1:\n",
    "            ml_it = ml_it + 1\n",
    "            ml = ml + get_income(data['Q29'].iloc[index])\n",
    "print(round(scienc/science_it))\n",
    "print(round(ml/ml_it))"
   ]
  },
  {
   "cell_type": "markdown",
   "metadata": {},
   "source": [
    "## Задание 7 - Дополнительное задание"
   ]
  },
  {
   "cell_type": "markdown",
   "metadata": {},
   "source": [
    "Найдите какой-нибудь интересный инсайт из этих данных. Пишите свои интересные инсайты в чат проекта с хэштегом.\n",
    "#инсайт\n",
    "\n",
    "Автор самого интересного инсайта получит p2p баллы. Поверь, они тебе понадобятся"
   ]
  },
  {
   "cell_type": "code",
   "execution_count": 10,
   "metadata": {},
   "outputs": [],
   "source": [
    "# Код тут"
   ]
  }
 ],
 "metadata": {
  "kernelspec": {
   "display_name": "Python 3 (ipykernel)",
   "language": "python",
   "name": "python3"
  },
  "language_info": {
   "codemirror_mode": {
    "name": "ipython",
    "version": 3
   },
   "file_extension": ".py",
   "mimetype": "text/x-python",
   "name": "python",
   "nbconvert_exporter": "python",
   "pygments_lexer": "ipython3",
   "version": "3.11.1"
  }
 },
 "nbformat": 4,
 "nbformat_minor": 4
}
